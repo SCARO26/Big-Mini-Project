{
 "cells": [
  {
   "cell_type": "code",
   "execution_count": 96,
   "id": "f2a2f234-63dd-4972-ab3d-2cd4f0ac25af",
   "metadata": {
    "tags": []
   },
   "outputs": [
    {
     "name": "stdout",
     "output_type": "stream",
     "text": [
      "Mean: 12.4526\n",
      "Median: 12.0\n",
      "Mode: 12\n"
     ]
    }
   ],
   "source": [
    "#The Pinch Strategy\n",
    "import random\n",
    "from collections import Counter\n",
    "import numpy as np\n",
    "from statistics import mean, median, mode\n",
    "\n",
    "length = 200\n",
    "repeat = int(1000000)\n",
    "\n",
    "numbers = [i for i in range(1, length+1)]\n",
    "weights = [1] * len(numbers)\n",
    "loop_counter = 0\n",
    "\n",
    "\n",
    "def choose_two_adjust_weight(numbers, weights, loop_counter):\n",
    "    selected_two = random.choices(numbers, weights=weights, k=2)\n",
    "    if selected_two[0] == selected_two[1]:\n",
    "        index = numbers.index(selected_two[0])\n",
    "        weights[index] = 0  # Set the weight of the repeated number to 0\n",
    "        loop_counter += 1\n",
    "    else:\n",
    "        smaller = min(selected_two)\n",
    "        larger = max(selected_two)\n",
    "        smaller_index = numbers.index(smaller)\n",
    "        larger_index = numbers.index(larger)\n",
    "        weights[smaller_index] += weights[larger_index]\n",
    "        weights[larger_index] = 0\n",
    "    return weights, loop_counter\n",
    "\n",
    "\n",
    "def zero_stop(numbers, weights, loop_counter):\n",
    "    while any(weights):\n",
    "        weights, loop_counter = choose_two_adjust_weight(numbers, weights, loop_counter)\n",
    "    return loop_counter\n",
    "   \n",
    "results_list=[]\n",
    "\n",
    "for _ in range(repeat):\n",
    "    result = zero_stop(numbers, weights, loop_counter)\n",
    "    results_list.append(result)\n",
    "    numbers = [i for i in range(1, length+1)]\n",
    "    weights = [1] * len(numbers)\n",
    "    loop_counter = 0\n",
    "\n",
    "def count_values_in_list(lst):\n",
    "    counts = Counter(lst)\n",
    "    return counts\n",
    "\n",
    "value_counts = count_values_in_list(results_list)\n",
    "\n",
    "sort = {k: value_counts[k] for k in sorted(value_counts)}\n",
    "\n",
    "mean = mean(results_list)\n",
    "median = median(results_list)\n",
    "mode = mode(results_list)\n",
    "\n",
    "print(\"Mean:\", mean)\n",
    "print(\"Median:\", median)\n",
    "print(\"Mode:\", mode)"
   ]
  },
  {
   "cell_type": "code",
   "execution_count": 97,
   "id": "1f8a2eb6-7bba-4c51-b8ec-362c5e44a7f7",
   "metadata": {
    "tags": []
   },
   "outputs": [
    {
     "name": "stdout",
     "output_type": "stream",
     "text": [
      "Mean: 2.131735\n",
      "Median: 2.0\n",
      "Mode: 2\n"
     ]
    }
   ],
   "source": [
    "#The Lottery Strategy\n",
    "import random\n",
    "from collections import Counter\n",
    "import numpy as np\n",
    "from statistics import mean, median, mode\n",
    "\n",
    "length = 10\n",
    "repeat = int(1000000)\n",
    "\n",
    "numbers = [i for i in range(1, length+1)]\n",
    "weights = [1] * len(numbers)\n",
    "loop_counter = 0\n",
    "\n",
    "\n",
    "def choose_two_adjust_weight(numbers, weights, loop_counter):\n",
    "    first_selected = random.choices(numbers, weights=weights, k=1)[0]\n",
    "    indexA = numbers.index(first_selected)\n",
    "    weights[indexA] = 0.5\n",
    "    second_selected=random.choices(numbers, weights=weights, k=1)[0]\n",
    "    if first_selected == second_selected:\n",
    "        index = numbers.index(first_selected)\n",
    "        weights[index] = 0  # Set the weight of the repeated number to 0\n",
    "        loop_counter += 1\n",
    "    else:\n",
    "        weights[indexA] = 1\n",
    "        smaller = min(first_selected,second_selected)\n",
    "        larger = max(first_selected,second_selected)\n",
    "        smaller_index = numbers.index(smaller)\n",
    "        larger_index = numbers.index(larger)\n",
    "        weights[larger_index] = 0\n",
    "    return weights, loop_counter\n",
    "\n",
    "\n",
    "def zero_stop(numbers, weights, loop_counter):\n",
    "    while any(weights):\n",
    "        weights, loop_counter = choose_two_adjust_weight(numbers, weights, loop_counter)\n",
    "    return loop_counter\n",
    "   \n",
    "results_list=[]\n",
    "\n",
    "for _ in range(repeat):\n",
    "    result = zero_stop(numbers, weights, loop_counter)\n",
    "    results_list.append(result)\n",
    "    numbers = [i for i in range(1, length+1)]\n",
    "    weights = [1] * len(numbers)\n",
    "    loop_counter = 0\n",
    "\n",
    "def count_values_in_list(lst):\n",
    "    counts = Counter(lst)\n",
    "    return counts\n",
    "\n",
    "value_counts = count_values_in_list(results_list)\n",
    "\n",
    "sort = {k: value_counts[k] for k in sorted(value_counts)}\n",
    "\n",
    "mean = mean(results_list)\n",
    "median = median(results_list)\n",
    "mode = mode(results_list)\n",
    "\n",
    "print(\"Mean:\", mean)\n",
    "print(\"Median:\", median)\n",
    "print(\"Mode:\", mode)"
   ]
  },
  {
   "cell_type": "markdown",
   "id": "ab4eee7b-4b03-40d2-9f5f-544f1cec5785",
   "metadata": {},
   "source": [
    "# "
   ]
  }
 ],
 "metadata": {
  "kernelspec": {
   "display_name": "Python 3 (ipykernel)",
   "language": "python",
   "name": "python3"
  },
  "language_info": {
   "codemirror_mode": {
    "name": "ipython",
    "version": 3
   },
   "file_extension": ".py",
   "mimetype": "text/x-python",
   "name": "python",
   "nbconvert_exporter": "python",
   "pygments_lexer": "ipython3",
   "version": "3.11.5"
  }
 },
 "nbformat": 4,
 "nbformat_minor": 5
}
