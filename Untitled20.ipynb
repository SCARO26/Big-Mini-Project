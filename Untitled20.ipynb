{
 "cells": [
  {
   "cell_type": "code",
   "execution_count": null,
   "id": "f782e75d-2e4d-4593-a8f0-91598d2f0b3c",
   "metadata": {
    "tags": []
   },
   "outputs": [],
   "source": [
    "def letter_value(letter):\n",
    "    letter = letter.lower()  # Convert to lowercase to handle both cases\n",
    "    if letter == 'a':\n",
    "        return 1\n",
    "    elif letter == 'b':\n",
    "        return 2\n",
    "    elif letter == 'c':\n",
    "        return 3\n",
    "    elif letter == 'r':\n",
    "        return 4\n",
    "    else:\n",
    "        return 0  # Return 0 for letters not in the defined set\n",
    "\n",
    "def word_value(word):\n",
    "    total_value = 0\n",
    "    for letter in word:\n",
    "        total_value += letter_value(letter)\n",
    "    return total_value\n",
    "\n",
    "# Test the function\n",
    "word = input(\"Word\")\n",
    "print(\"The value of the word '{}' is: {}\".format(word, word_value(word)))"
   ]
  },
  {
   "cell_type": "code",
   "execution_count": null,
   "id": "047b6631-4ae5-4b99-813a-a6e376a384af",
   "metadata": {},
   "outputs": [],
   "source": []
  }
 ],
 "metadata": {
  "kernelspec": {
   "display_name": "Python 3 (ipykernel)",
   "language": "python",
   "name": "python3"
  },
  "language_info": {
   "codemirror_mode": {
    "name": "ipython",
    "version": 3
   },
   "file_extension": ".py",
   "mimetype": "text/x-python",
   "name": "python",
   "nbconvert_exporter": "python",
   "pygments_lexer": "ipython3",
   "version": "3.11.5"
  }
 },
 "nbformat": 4,
 "nbformat_minor": 5
}
